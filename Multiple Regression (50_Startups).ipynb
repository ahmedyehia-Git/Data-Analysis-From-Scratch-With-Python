{
 "cells": [
  {
   "cell_type": "markdown",
   "id": "4bd4897f",
   "metadata": {},
   "source": [
    "Multiple Linear Regression. The goal is still to fit a line that best shows the relationship between an independent variable and the\n",
    "target. The difference is that in Multiple Linear Regression, we have to deal with at least 2 features or independent variables."
   ]
  },
  {
   "cell_type": "code",
   "execution_count": 1,
   "id": "8d191a52",
   "metadata": {},
   "outputs": [],
   "source": [
    "import numpy as np \n",
    "import matplotlib.pyplot as plt\n",
    "import pandas as pd"
   ]
  },
  {
   "cell_type": "code",
   "execution_count": 2,
   "id": "1ae7b55e",
   "metadata": {},
   "outputs": [
    {
     "data": {
      "text/html": [
       "<div>\n",
       "<style scoped>\n",
       "    .dataframe tbody tr th:only-of-type {\n",
       "        vertical-align: middle;\n",
       "    }\n",
       "\n",
       "    .dataframe tbody tr th {\n",
       "        vertical-align: top;\n",
       "    }\n",
       "\n",
       "    .dataframe thead th {\n",
       "        text-align: right;\n",
       "    }\n",
       "</style>\n",
       "<table border=\"1\" class=\"dataframe\">\n",
       "  <thead>\n",
       "    <tr style=\"text-align: right;\">\n",
       "      <th></th>\n",
       "      <th>R&amp;D Spend</th>\n",
       "      <th>Administration</th>\n",
       "      <th>Marketing Spend</th>\n",
       "      <th>State</th>\n",
       "      <th>Profit</th>\n",
       "    </tr>\n",
       "  </thead>\n",
       "  <tbody>\n",
       "    <tr>\n",
       "      <th>0</th>\n",
       "      <td>165349.20</td>\n",
       "      <td>136897.80</td>\n",
       "      <td>471784.10</td>\n",
       "      <td>New York</td>\n",
       "      <td>192261.83</td>\n",
       "    </tr>\n",
       "    <tr>\n",
       "      <th>1</th>\n",
       "      <td>162597.70</td>\n",
       "      <td>151377.59</td>\n",
       "      <td>443898.53</td>\n",
       "      <td>California</td>\n",
       "      <td>191792.06</td>\n",
       "    </tr>\n",
       "    <tr>\n",
       "      <th>2</th>\n",
       "      <td>153441.51</td>\n",
       "      <td>101145.55</td>\n",
       "      <td>407934.54</td>\n",
       "      <td>Florida</td>\n",
       "      <td>191050.39</td>\n",
       "    </tr>\n",
       "    <tr>\n",
       "      <th>3</th>\n",
       "      <td>144372.41</td>\n",
       "      <td>118671.85</td>\n",
       "      <td>383199.62</td>\n",
       "      <td>New York</td>\n",
       "      <td>182901.99</td>\n",
       "    </tr>\n",
       "    <tr>\n",
       "      <th>4</th>\n",
       "      <td>142107.34</td>\n",
       "      <td>91391.77</td>\n",
       "      <td>366168.42</td>\n",
       "      <td>Florida</td>\n",
       "      <td>166187.94</td>\n",
       "    </tr>\n",
       "  </tbody>\n",
       "</table>\n",
       "</div>"
      ],
      "text/plain": [
       "   R&D Spend  Administration  Marketing Spend       State    Profit \n",
       "0  165349.20       136897.80        471784.10    New York  192261.83\n",
       "1  162597.70       151377.59        443898.53  California  191792.06\n",
       "2  153441.51       101145.55        407934.54     Florida  191050.39\n",
       "3  144372.41       118671.85        383199.62    New York  182901.99\n",
       "4  142107.34        91391.77        366168.42     Florida  166187.94"
      ]
     },
     "execution_count": 2,
     "metadata": {},
     "output_type": "execute_result"
    }
   ],
   "source": [
    "# Importing the dataset\n",
    "dataset = pd.read_csv('50_Startups.csv')\n",
    "dataset.head()"
   ]
  },
  {
   "cell_type": "code",
   "execution_count": 3,
   "id": "f699df8f",
   "metadata": {},
   "outputs": [],
   "source": [
    "X = dataset.iloc[:, :-1].values\n",
    "y = dataset.iloc[:, 4].values"
   ]
  },
  {
   "cell_type": "code",
   "execution_count": 4,
   "id": "178583c0",
   "metadata": {},
   "outputs": [],
   "source": [
    "# Encoding categorical data\n",
    "# we transform categorical variables into numeric ones (dummy variables)\n",
    "\n",
    "from sklearn.preprocessing import LabelEncoder, OneHotEncoder \n",
    "from sklearn.compose import ColumnTransformer"
   ]
  },
  {
   "cell_type": "code",
   "execution_count": 6,
   "id": "7e0133e1",
   "metadata": {},
   "outputs": [],
   "source": [
    "#onehotencoder = OneHotEncoder(categories='auto') this one is not working anymore\n",
    "st = ColumnTransformer([(\"State\", OneHotEncoder(), [3])], remainder ='passthrough')\n",
    "X = st.fit_transform(X)\n",
    "labelencoder = LabelEncoder()\n",
    "X[:,3] = labelencoder.fit_transform(X[:,3])\n",
    "X = X[:, 1:]# Avoiding the Dummy Variable Trap"
   ]
  },
  {
   "cell_type": "code",
   "execution_count": 8,
   "id": "6b8704e8",
   "metadata": {},
   "outputs": [
    {
     "data": {
      "text/plain": [
       "array([[0.0, 1.0, 48, 136897.8, 471784.1],\n",
       "       [0.0, 0.0, 47, 151377.59, 443898.53],\n",
       "       [1.0, 0.0, 46, 101145.55, 407934.54],\n",
       "       [0.0, 1.0, 45, 118671.85, 383199.62],\n",
       "       [1.0, 0.0, 44, 91391.77, 366168.42],\n",
       "       [0.0, 1.0, 42, 99814.71, 362861.36],\n",
       "       [0.0, 0.0, 43, 147198.87, 127716.82],\n",
       "       [1.0, 0.0, 41, 145530.06, 323876.68],\n",
       "       [0.0, 1.0, 39, 148718.95, 311613.29],\n",
       "       [0.0, 0.0, 40, 108679.17, 304981.62],\n",
       "       [1.0, 0.0, 36, 110594.11, 229160.95],\n",
       "       [0.0, 0.0, 35, 91790.61, 249744.55],\n",
       "       [1.0, 0.0, 33, 127320.38, 249839.44],\n",
       "       [0.0, 0.0, 32, 135495.07, 252664.93],\n",
       "       [1.0, 0.0, 38, 156547.42, 256512.92],\n",
       "       [0.0, 1.0, 37, 122616.84, 261776.23],\n",
       "       [0.0, 0.0, 28, 121597.55, 264346.06],\n",
       "       [0.0, 1.0, 34, 145077.58, 282574.31],\n",
       "       [1.0, 0.0, 31, 114175.79, 294919.57],\n",
       "       [0.0, 1.0, 30, 153514.11, 0.0],\n",
       "       [0.0, 0.0, 26, 113867.3, 298664.47],\n",
       "       [0.0, 1.0, 29, 153773.43, 299737.29],\n",
       "       [1.0, 0.0, 24, 122782.75, 303319.26],\n",
       "       [1.0, 0.0, 22, 105751.03, 304768.73],\n",
       "       [0.0, 1.0, 27, 99281.34, 140574.81],\n",
       "       [0.0, 0.0, 19, 139553.16, 137962.62],\n",
       "       [1.0, 0.0, 25, 144135.98, 134050.07],\n",
       "       [0.0, 1.0, 23, 127864.55, 353183.81],\n",
       "       [1.0, 0.0, 21, 182645.56, 118148.2],\n",
       "       [0.0, 1.0, 20, 153032.06, 107138.38],\n",
       "       [1.0, 0.0, 17, 115641.28, 91131.24],\n",
       "       [0.0, 1.0, 16, 152701.92, 88218.23],\n",
       "       [0.0, 0.0, 18, 129219.61, 46085.25],\n",
       "       [1.0, 0.0, 15, 103057.49, 214634.81],\n",
       "       [0.0, 0.0, 14, 157693.92, 210797.67],\n",
       "       [0.0, 1.0, 13, 85047.44, 205517.64],\n",
       "       [1.0, 0.0, 9, 127056.21, 201126.82],\n",
       "       [0.0, 0.0, 12, 51283.14, 197029.42],\n",
       "       [0.0, 1.0, 5, 65947.93, 185265.1],\n",
       "       [0.0, 0.0, 11, 82982.09, 174999.3],\n",
       "       [0.0, 0.0, 10, 118546.05, 172795.67],\n",
       "       [1.0, 0.0, 8, 84710.77, 164470.71],\n",
       "       [0.0, 0.0, 7, 96189.63, 148001.11],\n",
       "       [0.0, 1.0, 4, 127382.3, 35534.17],\n",
       "       [0.0, 0.0, 6, 154806.14, 28334.72],\n",
       "       [0.0, 1.0, 2, 124153.04, 1903.93],\n",
       "       [1.0, 0.0, 3, 115816.21, 297114.46],\n",
       "       [0.0, 0.0, 0, 135426.92, 0.0],\n",
       "       [0.0, 1.0, 1, 51743.15, 0.0],\n",
       "       [0.0, 0.0, 0, 116983.8, 45173.06]], dtype=object)"
      ]
     },
     "execution_count": 8,
     "metadata": {},
     "output_type": "execute_result"
    }
   ],
   "source": [
    "X"
   ]
  },
  {
   "cell_type": "code",
   "execution_count": 9,
   "id": "ef6e2c90",
   "metadata": {},
   "outputs": [],
   "source": [
    "# dividing the dataset into Training Set and Test Set\n",
    "from sklearn.model_selection import train_test_split\n",
    "X_train, X_test, y_train, y_test = train_test_split(X, y, test_size = 0.2, random_state = 0) "
   ]
  },
  {
   "cell_type": "code",
   "execution_count": 11,
   "id": "fe8f8f80",
   "metadata": {},
   "outputs": [
    {
     "data": {
      "text/plain": [
       "LinearRegression()"
      ]
     },
     "execution_count": 11,
     "metadata": {},
     "output_type": "execute_result"
    }
   ],
   "source": [
    "# Next step is we can then create a regressor and “fit the line” (and use that line on Test Set)\n",
    "from sklearn.linear_model import LinearRegression\n",
    "regressor = LinearRegression() \n",
    "regressor.fit(X_train, y_train)"
   ]
  },
  {
   "cell_type": "code",
   "execution_count": 12,
   "id": "a23252a7",
   "metadata": {},
   "outputs": [
    {
     "data": {
      "text/plain": [
       "array([100815.65143643, 141065.32323456, 140351.4842569 ,  69602.81317407,\n",
       "       171849.80561966, 115796.48839866,  64138.93341569,  88177.53284686,\n",
       "       114766.47156368, 165080.49074038])"
      ]
     },
     "execution_count": 12,
     "metadata": {},
     "output_type": "execute_result"
    }
   ],
   "source": [
    "# Predicting the Test set results\n",
    "y_pred = regressor.predict(X_test) \n",
    "y_pred"
   ]
  }
 ],
 "metadata": {
  "kernelspec": {
   "display_name": "Python 3",
   "language": "python",
   "name": "python3"
  },
  "language_info": {
   "codemirror_mode": {
    "name": "ipython",
    "version": 3
   },
   "file_extension": ".py",
   "mimetype": "text/x-python",
   "name": "python",
   "nbconvert_exporter": "python",
   "pygments_lexer": "ipython3",
   "version": "3.8.8"
  }
 },
 "nbformat": 4,
 "nbformat_minor": 5
}
