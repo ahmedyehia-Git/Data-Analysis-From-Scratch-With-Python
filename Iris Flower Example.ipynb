{
 "cells": [
  {
   "cell_type": "markdown",
   "id": "c539eee1",
   "metadata": {},
   "source": [
    "The goal is to predict the species of an Iris flower based on the length and width of its sepals and petals. First, we have to create a model based on a dataset with the flowers’ measurements and their corresponding species. Based on our code, our computer will “learn from the data” and extract patterns from it. It will then apply what it learned to a new dataset. Let’s look at the code."
   ]
  },
  {
   "cell_type": "code",
   "execution_count": 30,
   "id": "78d8dac2",
   "metadata": {},
   "outputs": [],
   "source": [
    "from sklearn.datasets import load_iris\n",
    "from sklearn import tree\n",
    "from sklearn.metrics import accuracy_score\n",
    "import numpy as np"
   ]
  },
  {
   "cell_type": "code",
   "execution_count": 31,
   "id": "83bd9d14",
   "metadata": {},
   "outputs": [],
   "source": [
    "#loading the iris dataset\n",
    "iris = load_iris()"
   ]
  },
  {
   "cell_type": "code",
   "execution_count": 32,
   "id": "3178ed0f",
   "metadata": {},
   "outputs": [],
   "source": [
    "x = iris.data #array of the data\n",
    "y = iris.target #array of labels (i.e answers) of each data entry"
   ]
  },
  {
   "cell_type": "code",
   "execution_count": 33,
   "id": "c48d36f1",
   "metadata": {},
   "outputs": [],
   "source": [
    "#getting label names i.e the three flower species\n",
    "y_names = iris.target_names"
   ]
  },
  {
   "cell_type": "code",
   "execution_count": 34,
   "id": "b7e93810",
   "metadata": {},
   "outputs": [],
   "source": [
    "#taking random indices to split the dataset into train and test\n",
    "test_ids = np.random.permutation(len(x))"
   ]
  },
  {
   "cell_type": "code",
   "execution_count": 35,
   "id": "4d8b0bb4",
   "metadata": {},
   "outputs": [],
   "source": [
    "#splitting data and labels into train and test\n",
    "#keeping last 10 entries for testing, rest for training\n",
    "\n",
    "x_train = x[test_ids[:-10]]\n",
    "x_test = x[test_ids[-10:]]\n",
    "\n",
    "y_train = y[test_ids[:-10]]\n",
    "y_test = y[test_ids[-10:]]"
   ]
  },
  {
   "cell_type": "code",
   "execution_count": 36,
   "id": "e5ce2b61",
   "metadata": {},
   "outputs": [],
   "source": [
    "#classifying using decision tree\n",
    "clf = tree.DecisionTreeClassifier()"
   ]
  },
  {
   "cell_type": "code",
   "execution_count": 37,
   "id": "1e1d1c88",
   "metadata": {},
   "outputs": [
    {
     "data": {
      "text/plain": [
       "DecisionTreeClassifier()"
      ]
     },
     "execution_count": 37,
     "metadata": {},
     "output_type": "execute_result"
    }
   ],
   "source": [
    "#training (fitting) the classifier with the training set\n",
    "clf.fit(x_train, y_train)"
   ]
  },
  {
   "cell_type": "code",
   "execution_count": 38,
   "id": "4da94e97",
   "metadata": {},
   "outputs": [],
   "source": [
    "#predictions on the test dataset\n",
    "pred = clf.predict(x_test)"
   ]
  },
  {
   "cell_type": "code",
   "execution_count": 39,
   "id": "c5512067",
   "metadata": {},
   "outputs": [
    {
     "name": "stdout",
     "output_type": "stream",
     "text": [
      "[0 0 2 2 2 1 1 1 0 1]\n"
     ]
    }
   ],
   "source": [
    "print (pred) #predicted labels i.e flower species"
   ]
  },
  {
   "cell_type": "code",
   "execution_count": 40,
   "id": "ad5c2811",
   "metadata": {},
   "outputs": [
    {
     "name": "stdout",
     "output_type": "stream",
     "text": [
      "[0 0 2 2 2 1 1 1 0 1]\n"
     ]
    }
   ],
   "source": [
    "print (y_test) #actual labels"
   ]
  },
  {
   "cell_type": "code",
   "execution_count": 41,
   "id": "fe75012f",
   "metadata": {},
   "outputs": [
    {
     "name": "stdout",
     "output_type": "stream",
     "text": [
      "100.0\n"
     ]
    }
   ],
   "source": [
    "print ((accuracy_score(pred, y_test))*100) #prediction accura"
   ]
  },
  {
   "cell_type": "markdown",
   "id": "00c51efa",
   "metadata": {},
   "source": [
    "What you need to understand is that the goal here is to create a model that predicts a flower’s species. To do that, we split the data into training and test sets. We run the algorithm on the training set and use it against the test set to know the accuracy. The result is we’re able to predict the flower’s species on the test set based on what the computer learned from the training set."
   ]
  }
 ],
 "metadata": {
  "kernelspec": {
   "display_name": "Python 3",
   "language": "python",
   "name": "python3"
  },
  "language_info": {
   "codemirror_mode": {
    "name": "ipython",
    "version": 3
   },
   "file_extension": ".py",
   "mimetype": "text/x-python",
   "name": "python",
   "nbconvert_exporter": "python",
   "pygments_lexer": "ipython3",
   "version": "3.8.8"
  }
 },
 "nbformat": 4,
 "nbformat_minor": 5
}
